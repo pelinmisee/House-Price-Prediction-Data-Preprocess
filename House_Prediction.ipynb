{
  "nbformat": 4,
  "nbformat_minor": 0,
  "metadata": {
    "colab": {
      "provenance": [],
      "authorship_tag": "ABX9TyMRUeRhoZPuEuHIXzhZV0Nv",
      "include_colab_link": true
    },
    "kernelspec": {
      "name": "python3",
      "display_name": "Python 3"
    },
    "language_info": {
      "name": "python"
    }
  },
  "cells": [
    {
      "cell_type": "markdown",
      "metadata": {
        "id": "view-in-github",
        "colab_type": "text"
      },
      "source": [
        "<a href=\"https://colab.research.google.com/github/pelinmisee/House-Price-Prediction-Data-Preprocess/blob/main/House_Prediction.ipynb\" target=\"_parent\"><img src=\"https://colab.research.google.com/assets/colab-badge.svg\" alt=\"Open In Colab\"/></a>"
      ]
    },
    {
      "cell_type": "code",
      "execution_count": null,
      "metadata": {
        "id": "dW_VemfoWoBl"
      },
      "outputs": [],
      "source": [
        "import pandas as pd\n",
        "import numpy as np"
      ]
    },
    {
      "cell_type": "code",
      "source": [
        "dataset=pd.read_csv(\"houses.csv\")"
      ],
      "metadata": {
        "id": "YUeVyx6NWyYC"
      },
      "execution_count": null,
      "outputs": []
    },
    {
      "cell_type": "markdown",
      "source": [
        "There exists some problem with links, they cannot be clicked because of //en part. That must be in /en. That will be replaced first of all."
      ],
      "metadata": {
        "id": "VvoyexftZSHW"
      }
    },
    {
      "cell_type": "code",
      "source": [
        "dataset[\"home_link\"]=dataset[\"home_link\"].str.replace(\"//en\", \"/en\")"
      ],
      "metadata": {
        "id": "MPUb0tcYW5rv"
      },
      "execution_count": null,
      "outputs": []
    },
    {
      "cell_type": "code",
      "source": [
        "dataset.head()"
      ],
      "metadata": {
        "colab": {
          "base_uri": "https://localhost:8080/",
          "height": 374
        },
        "id": "scsVHCVHZvcq",
        "outputId": "6010e977-4985-4e46-fa2d-3248e559125d"
      },
      "execution_count": null,
      "outputs": [
        {
          "output_type": "execute_result",
          "data": {
            "text/plain": [
              "   Unnamed: 0      ilan_no  room  salon  brut_m2  net_m2 floor_location  \\\n",
              "0           0   132040-377     2      1      120     110              2   \n",
              "1           1   97948-8022     2      1      120     100              1   \n",
              "2           2  113569-4290     2      1      115     105              1   \n",
              "3           3    133471-42     2      1       80      75        Ara Kat   \n",
              "4           4   90940-2553     2      1      110     100              2   \n",
              "\n",
              "   building_age  building_floor compliance_with_loan  bathroom_amount  \\\n",
              "0             4               4                 True                1   \n",
              "1            16               4                 True                1   \n",
              "2             4               4                 True                2   \n",
              "3             0               3                 True                1   \n",
              "4             5               4                 True                2   \n",
              "\n",
              "  building_type   fuel_type        price         il        ilce   mahalle  \\\n",
              "0     Betonarme    Doğalgaz  2.390.000TL  Balıkesir     Edremit     Akçay   \n",
              "1     Betonarme  Kömür-Odun  1.279.000TL  Balıkesir     Edremit     Akçay   \n",
              "2     Betonarme    Doğalgaz  2.350.000TL   İstanbul  Beylikdüzü   Yakuplu   \n",
              "3     Betonarme    Doğalgaz  1.100.000TL    Sakarya      Karasu      Yalı   \n",
              "4     Betonarme    Elektrik  1.750.000TL  Balıkesir     Edremit  Altınkum   \n",
              "\n",
              "                                           home_link  \n",
              "0  https://www.hepsiemlak.com/en/balikesir-edremi...  \n",
              "1  https://www.hepsiemlak.com/en/balikesir-edremi...  \n",
              "2  https://www.hepsiemlak.com/en/istanbul-beylikd...  \n",
              "3  https://www.hepsiemlak.com/en/sakarya-karasu-y...  \n",
              "4  https://www.hepsiemlak.com/en/balikesir-edremi...  "
            ],
            "text/html": [
              "\n",
              "  <div id=\"df-bcd4fc65-3dad-4f1f-82cd-e0ffb5263e11\">\n",
              "    <div class=\"colab-df-container\">\n",
              "      <div>\n",
              "<style scoped>\n",
              "    .dataframe tbody tr th:only-of-type {\n",
              "        vertical-align: middle;\n",
              "    }\n",
              "\n",
              "    .dataframe tbody tr th {\n",
              "        vertical-align: top;\n",
              "    }\n",
              "\n",
              "    .dataframe thead th {\n",
              "        text-align: right;\n",
              "    }\n",
              "</style>\n",
              "<table border=\"1\" class=\"dataframe\">\n",
              "  <thead>\n",
              "    <tr style=\"text-align: right;\">\n",
              "      <th></th>\n",
              "      <th>Unnamed: 0</th>\n",
              "      <th>ilan_no</th>\n",
              "      <th>room</th>\n",
              "      <th>salon</th>\n",
              "      <th>brut_m2</th>\n",
              "      <th>net_m2</th>\n",
              "      <th>floor_location</th>\n",
              "      <th>building_age</th>\n",
              "      <th>building_floor</th>\n",
              "      <th>compliance_with_loan</th>\n",
              "      <th>bathroom_amount</th>\n",
              "      <th>building_type</th>\n",
              "      <th>fuel_type</th>\n",
              "      <th>price</th>\n",
              "      <th>il</th>\n",
              "      <th>ilce</th>\n",
              "      <th>mahalle</th>\n",
              "      <th>home_link</th>\n",
              "    </tr>\n",
              "  </thead>\n",
              "  <tbody>\n",
              "    <tr>\n",
              "      <th>0</th>\n",
              "      <td>0</td>\n",
              "      <td>132040-377</td>\n",
              "      <td>2</td>\n",
              "      <td>1</td>\n",
              "      <td>120</td>\n",
              "      <td>110</td>\n",
              "      <td>2</td>\n",
              "      <td>4</td>\n",
              "      <td>4</td>\n",
              "      <td>True</td>\n",
              "      <td>1</td>\n",
              "      <td>Betonarme</td>\n",
              "      <td>Doğalgaz</td>\n",
              "      <td>2.390.000TL</td>\n",
              "      <td>Balıkesir</td>\n",
              "      <td>Edremit</td>\n",
              "      <td>Akçay</td>\n",
              "      <td>https://www.hepsiemlak.com/en/balikesir-edremi...</td>\n",
              "    </tr>\n",
              "    <tr>\n",
              "      <th>1</th>\n",
              "      <td>1</td>\n",
              "      <td>97948-8022</td>\n",
              "      <td>2</td>\n",
              "      <td>1</td>\n",
              "      <td>120</td>\n",
              "      <td>100</td>\n",
              "      <td>1</td>\n",
              "      <td>16</td>\n",
              "      <td>4</td>\n",
              "      <td>True</td>\n",
              "      <td>1</td>\n",
              "      <td>Betonarme</td>\n",
              "      <td>Kömür-Odun</td>\n",
              "      <td>1.279.000TL</td>\n",
              "      <td>Balıkesir</td>\n",
              "      <td>Edremit</td>\n",
              "      <td>Akçay</td>\n",
              "      <td>https://www.hepsiemlak.com/en/balikesir-edremi...</td>\n",
              "    </tr>\n",
              "    <tr>\n",
              "      <th>2</th>\n",
              "      <td>2</td>\n",
              "      <td>113569-4290</td>\n",
              "      <td>2</td>\n",
              "      <td>1</td>\n",
              "      <td>115</td>\n",
              "      <td>105</td>\n",
              "      <td>1</td>\n",
              "      <td>4</td>\n",
              "      <td>4</td>\n",
              "      <td>True</td>\n",
              "      <td>2</td>\n",
              "      <td>Betonarme</td>\n",
              "      <td>Doğalgaz</td>\n",
              "      <td>2.350.000TL</td>\n",
              "      <td>İstanbul</td>\n",
              "      <td>Beylikdüzü</td>\n",
              "      <td>Yakuplu</td>\n",
              "      <td>https://www.hepsiemlak.com/en/istanbul-beylikd...</td>\n",
              "    </tr>\n",
              "    <tr>\n",
              "      <th>3</th>\n",
              "      <td>3</td>\n",
              "      <td>133471-42</td>\n",
              "      <td>2</td>\n",
              "      <td>1</td>\n",
              "      <td>80</td>\n",
              "      <td>75</td>\n",
              "      <td>Ara Kat</td>\n",
              "      <td>0</td>\n",
              "      <td>3</td>\n",
              "      <td>True</td>\n",
              "      <td>1</td>\n",
              "      <td>Betonarme</td>\n",
              "      <td>Doğalgaz</td>\n",
              "      <td>1.100.000TL</td>\n",
              "      <td>Sakarya</td>\n",
              "      <td>Karasu</td>\n",
              "      <td>Yalı</td>\n",
              "      <td>https://www.hepsiemlak.com/en/sakarya-karasu-y...</td>\n",
              "    </tr>\n",
              "    <tr>\n",
              "      <th>4</th>\n",
              "      <td>4</td>\n",
              "      <td>90940-2553</td>\n",
              "      <td>2</td>\n",
              "      <td>1</td>\n",
              "      <td>110</td>\n",
              "      <td>100</td>\n",
              "      <td>2</td>\n",
              "      <td>5</td>\n",
              "      <td>4</td>\n",
              "      <td>True</td>\n",
              "      <td>2</td>\n",
              "      <td>Betonarme</td>\n",
              "      <td>Elektrik</td>\n",
              "      <td>1.750.000TL</td>\n",
              "      <td>Balıkesir</td>\n",
              "      <td>Edremit</td>\n",
              "      <td>Altınkum</td>\n",
              "      <td>https://www.hepsiemlak.com/en/balikesir-edremi...</td>\n",
              "    </tr>\n",
              "  </tbody>\n",
              "</table>\n",
              "</div>\n",
              "      <button class=\"colab-df-convert\" onclick=\"convertToInteractive('df-bcd4fc65-3dad-4f1f-82cd-e0ffb5263e11')\"\n",
              "              title=\"Convert this dataframe to an interactive table.\"\n",
              "              style=\"display:none;\">\n",
              "        \n",
              "  <svg xmlns=\"http://www.w3.org/2000/svg\" height=\"24px\"viewBox=\"0 0 24 24\"\n",
              "       width=\"24px\">\n",
              "    <path d=\"M0 0h24v24H0V0z\" fill=\"none\"/>\n",
              "    <path d=\"M18.56 5.44l.94 2.06.94-2.06 2.06-.94-2.06-.94-.94-2.06-.94 2.06-2.06.94zm-11 1L8.5 8.5l.94-2.06 2.06-.94-2.06-.94L8.5 2.5l-.94 2.06-2.06.94zm10 10l.94 2.06.94-2.06 2.06-.94-2.06-.94-.94-2.06-.94 2.06-2.06.94z\"/><path d=\"M17.41 7.96l-1.37-1.37c-.4-.4-.92-.59-1.43-.59-.52 0-1.04.2-1.43.59L10.3 9.45l-7.72 7.72c-.78.78-.78 2.05 0 2.83L4 21.41c.39.39.9.59 1.41.59.51 0 1.02-.2 1.41-.59l7.78-7.78 2.81-2.81c.8-.78.8-2.07 0-2.86zM5.41 20L4 18.59l7.72-7.72 1.47 1.35L5.41 20z\"/>\n",
              "  </svg>\n",
              "      </button>\n",
              "      \n",
              "  <style>\n",
              "    .colab-df-container {\n",
              "      display:flex;\n",
              "      flex-wrap:wrap;\n",
              "      gap: 12px;\n",
              "    }\n",
              "\n",
              "    .colab-df-convert {\n",
              "      background-color: #E8F0FE;\n",
              "      border: none;\n",
              "      border-radius: 50%;\n",
              "      cursor: pointer;\n",
              "      display: none;\n",
              "      fill: #1967D2;\n",
              "      height: 32px;\n",
              "      padding: 0 0 0 0;\n",
              "      width: 32px;\n",
              "    }\n",
              "\n",
              "    .colab-df-convert:hover {\n",
              "      background-color: #E2EBFA;\n",
              "      box-shadow: 0px 1px 2px rgba(60, 64, 67, 0.3), 0px 1px 3px 1px rgba(60, 64, 67, 0.15);\n",
              "      fill: #174EA6;\n",
              "    }\n",
              "\n",
              "    [theme=dark] .colab-df-convert {\n",
              "      background-color: #3B4455;\n",
              "      fill: #D2E3FC;\n",
              "    }\n",
              "\n",
              "    [theme=dark] .colab-df-convert:hover {\n",
              "      background-color: #434B5C;\n",
              "      box-shadow: 0px 1px 3px 1px rgba(0, 0, 0, 0.15);\n",
              "      filter: drop-shadow(0px 1px 2px rgba(0, 0, 0, 0.3));\n",
              "      fill: #FFFFFF;\n",
              "    }\n",
              "  </style>\n",
              "\n",
              "      <script>\n",
              "        const buttonEl =\n",
              "          document.querySelector('#df-bcd4fc65-3dad-4f1f-82cd-e0ffb5263e11 button.colab-df-convert');\n",
              "        buttonEl.style.display =\n",
              "          google.colab.kernel.accessAllowed ? 'block' : 'none';\n",
              "\n",
              "        async function convertToInteractive(key) {\n",
              "          const element = document.querySelector('#df-bcd4fc65-3dad-4f1f-82cd-e0ffb5263e11');\n",
              "          const dataTable =\n",
              "            await google.colab.kernel.invokeFunction('convertToInteractive',\n",
              "                                                     [key], {});\n",
              "          if (!dataTable) return;\n",
              "\n",
              "          const docLinkHtml = 'Like what you see? Visit the ' +\n",
              "            '<a target=\"_blank\" href=https://colab.research.google.com/notebooks/data_table.ipynb>data table notebook</a>'\n",
              "            + ' to learn more about interactive tables.';\n",
              "          element.innerHTML = '';\n",
              "          dataTable['output_type'] = 'display_data';\n",
              "          await google.colab.output.renderOutput(dataTable, element);\n",
              "          const docLink = document.createElement('div');\n",
              "          docLink.innerHTML = docLinkHtml;\n",
              "          element.appendChild(docLink);\n",
              "        }\n",
              "      </script>\n",
              "    </div>\n",
              "  </div>\n",
              "  "
            ]
          },
          "metadata": {},
          "execution_count": 109
        }
      ]
    },
    {
      "cell_type": "code",
      "source": [
        "dataset.columns"
      ],
      "metadata": {
        "colab": {
          "base_uri": "https://localhost:8080/"
        },
        "id": "GeQ9x0d0apAl",
        "outputId": "59d1ede3-da81-4a6d-b943-9e5df31d35ed"
      },
      "execution_count": null,
      "outputs": [
        {
          "output_type": "execute_result",
          "data": {
            "text/plain": [
              "Index(['Unnamed: 0', 'ilan_no', 'room', 'salon', 'brut_m2', 'net_m2',\n",
              "       'floor_location', 'building_age', 'building_floor',\n",
              "       'compliance_with_loan', 'bathroom_amount', 'building_type', 'fuel_type',\n",
              "       'price', 'il', 'ilce', 'mahalle', 'home_link'],\n",
              "      dtype='object')"
            ]
          },
          "metadata": {},
          "execution_count": 110
        }
      ]
    },
    {
      "cell_type": "markdown",
      "source": [
        "There exists an unnecessary columns, it will be deleted."
      ],
      "metadata": {
        "id": "BfrSF_FtZ1bf"
      }
    },
    {
      "cell_type": "code",
      "source": [
        "dataset.drop(['Unnamed: 0'], inplace=True, axis=1)"
      ],
      "metadata": {
        "id": "1yJrQxlaZ7kE"
      },
      "execution_count": null,
      "outputs": []
    },
    {
      "cell_type": "markdown",
      "source": [
        "It is time to decide which features can be used for predictions. For that lets check all of the columns separetly. It is easy to see that, ilan no and home link is not needed to predict house price. Lets remove them in the dataset that will be used for model training."
      ],
      "metadata": {
        "id": "9-lpf3zda9K4"
      }
    },
    {
      "cell_type": "code",
      "source": [
        "data=dataset.copy()  #that will be the dataset that will be used for model training. "
      ],
      "metadata": {
        "id": "yEOJlfg9b5vH"
      },
      "execution_count": null,
      "outputs": []
    },
    {
      "cell_type": "code",
      "source": [
        "data.shape"
      ],
      "metadata": {
        "colab": {
          "base_uri": "https://localhost:8080/"
        },
        "id": "Sy6rqqpZcAMR",
        "outputId": "5a754c5b-4c97-4611-cc36-9efbed38fe96"
      },
      "execution_count": null,
      "outputs": [
        {
          "output_type": "execute_result",
          "data": {
            "text/plain": [
              "(13568, 17)"
            ]
          },
          "metadata": {},
          "execution_count": 113
        }
      ]
    },
    {
      "cell_type": "code",
      "source": [
        "#data.drop([\"ilan_no\", \"home_link\"], inplace=True, axis=1)"
      ],
      "metadata": {
        "id": "iYfPtQ2WcJRT"
      },
      "execution_count": null,
      "outputs": []
    },
    {
      "cell_type": "code",
      "source": [
        "data.columns  #lets review each of the columns"
      ],
      "metadata": {
        "colab": {
          "base_uri": "https://localhost:8080/"
        },
        "id": "yO04NSyScnh9",
        "outputId": "7978d611-c894-4f53-b82a-391b0d42d82d"
      },
      "execution_count": null,
      "outputs": [
        {
          "output_type": "execute_result",
          "data": {
            "text/plain": [
              "Index(['ilan_no', 'room', 'salon', 'brut_m2', 'net_m2', 'floor_location',\n",
              "       'building_age', 'building_floor', 'compliance_with_loan',\n",
              "       'bathroom_amount', 'building_type', 'fuel_type', 'price', 'il', 'ilce',\n",
              "       'mahalle', 'home_link'],\n",
              "      dtype='object')"
            ]
          },
          "metadata": {},
          "execution_count": 115
        }
      ]
    },
    {
      "cell_type": "markdown",
      "source": [
        "## *Room*"
      ],
      "metadata": {
        "id": "jRmou755cudu"
      }
    },
    {
      "cell_type": "code",
      "source": [
        "data.groupby([\"room\"])[\"room\"].count()"
      ],
      "metadata": {
        "id": "gjlQdvHKctBl",
        "colab": {
          "base_uri": "https://localhost:8080/"
        },
        "outputId": "fc4deb89-25d1-4166-9b00-0e51d4ae876d"
      },
      "execution_count": null,
      "outputs": [
        {
          "output_type": "execute_result",
          "data": {
            "text/plain": [
              "room\n",
              "1     984\n",
              "2    4274\n",
              "3    6312\n",
              "4    1505\n",
              "5     360\n",
              "6     107\n",
              "7      21\n",
              "8       5\n",
              "Name: room, dtype: int64"
            ]
          },
          "metadata": {},
          "execution_count": 116
        }
      ]
    },
    {
      "cell_type": "markdown",
      "source": [
        "It seems weird that house has 5,6,7,8 rooms. Lets check them."
      ],
      "metadata": {
        "id": "lW2xv4PA_rx4"
      }
    },
    {
      "cell_type": "code",
      "source": [
        "data[data[\"room\"] > 4]"
      ],
      "metadata": {
        "colab": {
          "base_uri": "https://localhost:8080/",
          "height": 661
        },
        "id": "3DHipa_O_wh-",
        "outputId": "1eff25c9-afde-46c8-e804-c30e2a9cd5b9"
      },
      "execution_count": null,
      "outputs": [
        {
          "output_type": "execute_result",
          "data": {
            "text/plain": [
              "           ilan_no  room  salon  brut_m2  net_m2 floor_location  building_age  \\\n",
              "121     120527-355     5      1      340     208              5             9   \n",
              "181     4480-23223     6      2      360     340             12             0   \n",
              "193       136270-2     6      2      270     250              4             3   \n",
              "213     113552-271     6      1      225     210              5            10   \n",
              "242    128572-1173     5      1      250     240              3             6   \n",
              "...            ...   ...    ...      ...     ...            ...           ...   \n",
              "13469   132505-332     5      1      290     270              5             4   \n",
              "13490    20040-116     6      2      360     340             12             8   \n",
              "13503    1955-7088     5      2      340     300              3            11   \n",
              "13555     4036-738     5      1      350     320              4            14   \n",
              "13563    99290-470     5      1      190     180     En Üst Kat             0   \n",
              "\n",
              "       building_floor compliance_with_loan  bathroom_amount building_type  \\\n",
              "121                 5                 True                3     Betonarme   \n",
              "181                12                 True                5     Betonarme   \n",
              "193                 5                 True                3     Betonarme   \n",
              "213                 5                 True                2     Betonarme   \n",
              "242                 3                 True                2     Betonarme   \n",
              "...               ...                  ...              ...           ...   \n",
              "13469               5                 True                2     Betonarme   \n",
              "13490              12                 True                5     Betonarme   \n",
              "13503               3                 True                3     Betonarme   \n",
              "13555               4                 True                3     Betonarme   \n",
              "13563               4                 True                2     Betonarme   \n",
              "\n",
              "      fuel_type         price         il       ilce           mahalle  \\\n",
              "121    Doğalgaz   3.200.000TL      Aydın     Efeler          Kurtuluş   \n",
              "181    Doğalgaz  11.750.000TL     Ankara  Pursaklar             Fatih   \n",
              "193    Doğalgaz   2.550.000TL   İstanbul   Esenyurt          Gökevler   \n",
              "213    Doğalgaz   2.340.000TL  Zonguldak     Ereğli             Müftü   \n",
              "242    Doğalgaz   3.999.999TL    Antalya      Kepez         Yeşiltepe   \n",
              "...         ...           ...        ...        ...               ...   \n",
              "13469  Doğalgaz   2.500.000TL     Ankara      Mamak  GeneralZekiDoğan   \n",
              "13490  Doğalgaz  11.750.000TL     Ankara  Pursaklar             Fatih   \n",
              "13503  Doğalgaz   2.200.000TL     Ankara   Keçiören           İncirli   \n",
              "13555  Doğalgaz   4.650.000TL     Ankara    Çankaya         Karapınar   \n",
              "13563  Doğalgaz   2.000.000TL     Ankara    Polatlı          Şehitlik   \n",
              "\n",
              "                                               home_link  \n",
              "121    https://www.hepsiemlak.com/en/aydin-efeler-kur...  \n",
              "181    https://www.hepsiemlak.com/en/ankara-pursaklar...  \n",
              "193    https://www.hepsiemlak.com/en/istanbul-esenyur...  \n",
              "213    https://www.hepsiemlak.com/en/zonguldak-eregli...  \n",
              "242    https://www.hepsiemlak.com/en/antalya-kepez-ye...  \n",
              "...                                                  ...  \n",
              "13469  https://www.hepsiemlak.com/en/ankara-mamak-gen...  \n",
              "13490  https://www.hepsiemlak.com/en/ankara-pursaklar...  \n",
              "13503  https://www.hepsiemlak.com/en/ankara-kecioren-...  \n",
              "13555  https://www.hepsiemlak.com/en/ankara-cankaya-k...  \n",
              "13563  https://www.hepsiemlak.com/en/ankara-polatli-s...  \n",
              "\n",
              "[493 rows x 17 columns]"
            ],
            "text/html": [
              "\n",
              "  <div id=\"df-e6a9cd36-a8a6-4c5c-a7e2-2751f5467636\">\n",
              "    <div class=\"colab-df-container\">\n",
              "      <div>\n",
              "<style scoped>\n",
              "    .dataframe tbody tr th:only-of-type {\n",
              "        vertical-align: middle;\n",
              "    }\n",
              "\n",
              "    .dataframe tbody tr th {\n",
              "        vertical-align: top;\n",
              "    }\n",
              "\n",
              "    .dataframe thead th {\n",
              "        text-align: right;\n",
              "    }\n",
              "</style>\n",
              "<table border=\"1\" class=\"dataframe\">\n",
              "  <thead>\n",
              "    <tr style=\"text-align: right;\">\n",
              "      <th></th>\n",
              "      <th>ilan_no</th>\n",
              "      <th>room</th>\n",
              "      <th>salon</th>\n",
              "      <th>brut_m2</th>\n",
              "      <th>net_m2</th>\n",
              "      <th>floor_location</th>\n",
              "      <th>building_age</th>\n",
              "      <th>building_floor</th>\n",
              "      <th>compliance_with_loan</th>\n",
              "      <th>bathroom_amount</th>\n",
              "      <th>building_type</th>\n",
              "      <th>fuel_type</th>\n",
              "      <th>price</th>\n",
              "      <th>il</th>\n",
              "      <th>ilce</th>\n",
              "      <th>mahalle</th>\n",
              "      <th>home_link</th>\n",
              "    </tr>\n",
              "  </thead>\n",
              "  <tbody>\n",
              "    <tr>\n",
              "      <th>121</th>\n",
              "      <td>120527-355</td>\n",
              "      <td>5</td>\n",
              "      <td>1</td>\n",
              "      <td>340</td>\n",
              "      <td>208</td>\n",
              "      <td>5</td>\n",
              "      <td>9</td>\n",
              "      <td>5</td>\n",
              "      <td>True</td>\n",
              "      <td>3</td>\n",
              "      <td>Betonarme</td>\n",
              "      <td>Doğalgaz</td>\n",
              "      <td>3.200.000TL</td>\n",
              "      <td>Aydın</td>\n",
              "      <td>Efeler</td>\n",
              "      <td>Kurtuluş</td>\n",
              "      <td>https://www.hepsiemlak.com/en/aydin-efeler-kur...</td>\n",
              "    </tr>\n",
              "    <tr>\n",
              "      <th>181</th>\n",
              "      <td>4480-23223</td>\n",
              "      <td>6</td>\n",
              "      <td>2</td>\n",
              "      <td>360</td>\n",
              "      <td>340</td>\n",
              "      <td>12</td>\n",
              "      <td>0</td>\n",
              "      <td>12</td>\n",
              "      <td>True</td>\n",
              "      <td>5</td>\n",
              "      <td>Betonarme</td>\n",
              "      <td>Doğalgaz</td>\n",
              "      <td>11.750.000TL</td>\n",
              "      <td>Ankara</td>\n",
              "      <td>Pursaklar</td>\n",
              "      <td>Fatih</td>\n",
              "      <td>https://www.hepsiemlak.com/en/ankara-pursaklar...</td>\n",
              "    </tr>\n",
              "    <tr>\n",
              "      <th>193</th>\n",
              "      <td>136270-2</td>\n",
              "      <td>6</td>\n",
              "      <td>2</td>\n",
              "      <td>270</td>\n",
              "      <td>250</td>\n",
              "      <td>4</td>\n",
              "      <td>3</td>\n",
              "      <td>5</td>\n",
              "      <td>True</td>\n",
              "      <td>3</td>\n",
              "      <td>Betonarme</td>\n",
              "      <td>Doğalgaz</td>\n",
              "      <td>2.550.000TL</td>\n",
              "      <td>İstanbul</td>\n",
              "      <td>Esenyurt</td>\n",
              "      <td>Gökevler</td>\n",
              "      <td>https://www.hepsiemlak.com/en/istanbul-esenyur...</td>\n",
              "    </tr>\n",
              "    <tr>\n",
              "      <th>213</th>\n",
              "      <td>113552-271</td>\n",
              "      <td>6</td>\n",
              "      <td>1</td>\n",
              "      <td>225</td>\n",
              "      <td>210</td>\n",
              "      <td>5</td>\n",
              "      <td>10</td>\n",
              "      <td>5</td>\n",
              "      <td>True</td>\n",
              "      <td>2</td>\n",
              "      <td>Betonarme</td>\n",
              "      <td>Doğalgaz</td>\n",
              "      <td>2.340.000TL</td>\n",
              "      <td>Zonguldak</td>\n",
              "      <td>Ereğli</td>\n",
              "      <td>Müftü</td>\n",
              "      <td>https://www.hepsiemlak.com/en/zonguldak-eregli...</td>\n",
              "    </tr>\n",
              "    <tr>\n",
              "      <th>242</th>\n",
              "      <td>128572-1173</td>\n",
              "      <td>5</td>\n",
              "      <td>1</td>\n",
              "      <td>250</td>\n",
              "      <td>240</td>\n",
              "      <td>3</td>\n",
              "      <td>6</td>\n",
              "      <td>3</td>\n",
              "      <td>True</td>\n",
              "      <td>2</td>\n",
              "      <td>Betonarme</td>\n",
              "      <td>Doğalgaz</td>\n",
              "      <td>3.999.999TL</td>\n",
              "      <td>Antalya</td>\n",
              "      <td>Kepez</td>\n",
              "      <td>Yeşiltepe</td>\n",
              "      <td>https://www.hepsiemlak.com/en/antalya-kepez-ye...</td>\n",
              "    </tr>\n",
              "    <tr>\n",
              "      <th>...</th>\n",
              "      <td>...</td>\n",
              "      <td>...</td>\n",
              "      <td>...</td>\n",
              "      <td>...</td>\n",
              "      <td>...</td>\n",
              "      <td>...</td>\n",
              "      <td>...</td>\n",
              "      <td>...</td>\n",
              "      <td>...</td>\n",
              "      <td>...</td>\n",
              "      <td>...</td>\n",
              "      <td>...</td>\n",
              "      <td>...</td>\n",
              "      <td>...</td>\n",
              "      <td>...</td>\n",
              "      <td>...</td>\n",
              "      <td>...</td>\n",
              "    </tr>\n",
              "    <tr>\n",
              "      <th>13469</th>\n",
              "      <td>132505-332</td>\n",
              "      <td>5</td>\n",
              "      <td>1</td>\n",
              "      <td>290</td>\n",
              "      <td>270</td>\n",
              "      <td>5</td>\n",
              "      <td>4</td>\n",
              "      <td>5</td>\n",
              "      <td>True</td>\n",
              "      <td>2</td>\n",
              "      <td>Betonarme</td>\n",
              "      <td>Doğalgaz</td>\n",
              "      <td>2.500.000TL</td>\n",
              "      <td>Ankara</td>\n",
              "      <td>Mamak</td>\n",
              "      <td>GeneralZekiDoğan</td>\n",
              "      <td>https://www.hepsiemlak.com/en/ankara-mamak-gen...</td>\n",
              "    </tr>\n",
              "    <tr>\n",
              "      <th>13490</th>\n",
              "      <td>20040-116</td>\n",
              "      <td>6</td>\n",
              "      <td>2</td>\n",
              "      <td>360</td>\n",
              "      <td>340</td>\n",
              "      <td>12</td>\n",
              "      <td>8</td>\n",
              "      <td>12</td>\n",
              "      <td>True</td>\n",
              "      <td>5</td>\n",
              "      <td>Betonarme</td>\n",
              "      <td>Doğalgaz</td>\n",
              "      <td>11.750.000TL</td>\n",
              "      <td>Ankara</td>\n",
              "      <td>Pursaklar</td>\n",
              "      <td>Fatih</td>\n",
              "      <td>https://www.hepsiemlak.com/en/ankara-pursaklar...</td>\n",
              "    </tr>\n",
              "    <tr>\n",
              "      <th>13503</th>\n",
              "      <td>1955-7088</td>\n",
              "      <td>5</td>\n",
              "      <td>2</td>\n",
              "      <td>340</td>\n",
              "      <td>300</td>\n",
              "      <td>3</td>\n",
              "      <td>11</td>\n",
              "      <td>3</td>\n",
              "      <td>True</td>\n",
              "      <td>3</td>\n",
              "      <td>Betonarme</td>\n",
              "      <td>Doğalgaz</td>\n",
              "      <td>2.200.000TL</td>\n",
              "      <td>Ankara</td>\n",
              "      <td>Keçiören</td>\n",
              "      <td>İncirli</td>\n",
              "      <td>https://www.hepsiemlak.com/en/ankara-kecioren-...</td>\n",
              "    </tr>\n",
              "    <tr>\n",
              "      <th>13555</th>\n",
              "      <td>4036-738</td>\n",
              "      <td>5</td>\n",
              "      <td>1</td>\n",
              "      <td>350</td>\n",
              "      <td>320</td>\n",
              "      <td>4</td>\n",
              "      <td>14</td>\n",
              "      <td>4</td>\n",
              "      <td>True</td>\n",
              "      <td>3</td>\n",
              "      <td>Betonarme</td>\n",
              "      <td>Doğalgaz</td>\n",
              "      <td>4.650.000TL</td>\n",
              "      <td>Ankara</td>\n",
              "      <td>Çankaya</td>\n",
              "      <td>Karapınar</td>\n",
              "      <td>https://www.hepsiemlak.com/en/ankara-cankaya-k...</td>\n",
              "    </tr>\n",
              "    <tr>\n",
              "      <th>13563</th>\n",
              "      <td>99290-470</td>\n",
              "      <td>5</td>\n",
              "      <td>1</td>\n",
              "      <td>190</td>\n",
              "      <td>180</td>\n",
              "      <td>En Üst Kat</td>\n",
              "      <td>0</td>\n",
              "      <td>4</td>\n",
              "      <td>True</td>\n",
              "      <td>2</td>\n",
              "      <td>Betonarme</td>\n",
              "      <td>Doğalgaz</td>\n",
              "      <td>2.000.000TL</td>\n",
              "      <td>Ankara</td>\n",
              "      <td>Polatlı</td>\n",
              "      <td>Şehitlik</td>\n",
              "      <td>https://www.hepsiemlak.com/en/ankara-polatli-s...</td>\n",
              "    </tr>\n",
              "  </tbody>\n",
              "</table>\n",
              "<p>493 rows × 17 columns</p>\n",
              "</div>\n",
              "      <button class=\"colab-df-convert\" onclick=\"convertToInteractive('df-e6a9cd36-a8a6-4c5c-a7e2-2751f5467636')\"\n",
              "              title=\"Convert this dataframe to an interactive table.\"\n",
              "              style=\"display:none;\">\n",
              "        \n",
              "  <svg xmlns=\"http://www.w3.org/2000/svg\" height=\"24px\"viewBox=\"0 0 24 24\"\n",
              "       width=\"24px\">\n",
              "    <path d=\"M0 0h24v24H0V0z\" fill=\"none\"/>\n",
              "    <path d=\"M18.56 5.44l.94 2.06.94-2.06 2.06-.94-2.06-.94-.94-2.06-.94 2.06-2.06.94zm-11 1L8.5 8.5l.94-2.06 2.06-.94-2.06-.94L8.5 2.5l-.94 2.06-2.06.94zm10 10l.94 2.06.94-2.06 2.06-.94-2.06-.94-.94-2.06-.94 2.06-2.06.94z\"/><path d=\"M17.41 7.96l-1.37-1.37c-.4-.4-.92-.59-1.43-.59-.52 0-1.04.2-1.43.59L10.3 9.45l-7.72 7.72c-.78.78-.78 2.05 0 2.83L4 21.41c.39.39.9.59 1.41.59.51 0 1.02-.2 1.41-.59l7.78-7.78 2.81-2.81c.8-.78.8-2.07 0-2.86zM5.41 20L4 18.59l7.72-7.72 1.47 1.35L5.41 20z\"/>\n",
              "  </svg>\n",
              "      </button>\n",
              "      \n",
              "  <style>\n",
              "    .colab-df-container {\n",
              "      display:flex;\n",
              "      flex-wrap:wrap;\n",
              "      gap: 12px;\n",
              "    }\n",
              "\n",
              "    .colab-df-convert {\n",
              "      background-color: #E8F0FE;\n",
              "      border: none;\n",
              "      border-radius: 50%;\n",
              "      cursor: pointer;\n",
              "      display: none;\n",
              "      fill: #1967D2;\n",
              "      height: 32px;\n",
              "      padding: 0 0 0 0;\n",
              "      width: 32px;\n",
              "    }\n",
              "\n",
              "    .colab-df-convert:hover {\n",
              "      background-color: #E2EBFA;\n",
              "      box-shadow: 0px 1px 2px rgba(60, 64, 67, 0.3), 0px 1px 3px 1px rgba(60, 64, 67, 0.15);\n",
              "      fill: #174EA6;\n",
              "    }\n",
              "\n",
              "    [theme=dark] .colab-df-convert {\n",
              "      background-color: #3B4455;\n",
              "      fill: #D2E3FC;\n",
              "    }\n",
              "\n",
              "    [theme=dark] .colab-df-convert:hover {\n",
              "      background-color: #434B5C;\n",
              "      box-shadow: 0px 1px 3px 1px rgba(0, 0, 0, 0.15);\n",
              "      filter: drop-shadow(0px 1px 2px rgba(0, 0, 0, 0.3));\n",
              "      fill: #FFFFFF;\n",
              "    }\n",
              "  </style>\n",
              "\n",
              "      <script>\n",
              "        const buttonEl =\n",
              "          document.querySelector('#df-e6a9cd36-a8a6-4c5c-a7e2-2751f5467636 button.colab-df-convert');\n",
              "        buttonEl.style.display =\n",
              "          google.colab.kernel.accessAllowed ? 'block' : 'none';\n",
              "\n",
              "        async function convertToInteractive(key) {\n",
              "          const element = document.querySelector('#df-e6a9cd36-a8a6-4c5c-a7e2-2751f5467636');\n",
              "          const dataTable =\n",
              "            await google.colab.kernel.invokeFunction('convertToInteractive',\n",
              "                                                     [key], {});\n",
              "          if (!dataTable) return;\n",
              "\n",
              "          const docLinkHtml = 'Like what you see? Visit the ' +\n",
              "            '<a target=\"_blank\" href=https://colab.research.google.com/notebooks/data_table.ipynb>data table notebook</a>'\n",
              "            + ' to learn more about interactive tables.';\n",
              "          element.innerHTML = '';\n",
              "          dataTable['output_type'] = 'display_data';\n",
              "          await google.colab.output.renderOutput(dataTable, element);\n",
              "          const docLink = document.createElement('div');\n",
              "          docLink.innerHTML = docLinkHtml;\n",
              "          element.appendChild(docLink);\n",
              "        }\n",
              "      </script>\n",
              "    </div>\n",
              "  </div>\n",
              "  "
            ]
          },
          "metadata": {},
          "execution_count": 117
        }
      ]
    },
    {
      "cell_type": "markdown",
      "source": [
        "These seem okay. Lets check saloon amount of the houses"
      ],
      "metadata": {
        "id": "da5t4BBBF3Ii"
      }
    },
    {
      "cell_type": "markdown",
      "source": [
        "## *Saloon*"
      ],
      "metadata": {
        "id": "VtoEg4nnF8ke"
      }
    },
    {
      "cell_type": "code",
      "source": [
        "data.groupby([\"salon\"])[\"salon\"].count()"
      ],
      "metadata": {
        "colab": {
          "base_uri": "https://localhost:8080/"
        },
        "id": "BwBtg-r8F_ci",
        "outputId": "99ca8513-fd78-4af2-dc48-14f39dd65236"
      },
      "execution_count": null,
      "outputs": [
        {
          "output_type": "execute_result",
          "data": {
            "text/plain": [
              "salon\n",
              "0       51\n",
              "1    13135\n",
              "2      373\n",
              "3        8\n",
              "5        1\n",
              "Name: salon, dtype: int64"
            ]
          },
          "metadata": {},
          "execution_count": 118
        }
      ]
    },
    {
      "cell_type": "markdown",
      "source": [
        "having more than 3 salon seems weird. I checked and if there are some problem I removed these data."
      ],
      "metadata": {
        "id": "y1NHJz6DGG2B"
      }
    },
    {
      "cell_type": "markdown",
      "source": [
        "## *Brut and Net m2*"
      ],
      "metadata": {
        "id": "d4H-Fd4uOPGW"
      }
    },
    {
      "cell_type": "code",
      "source": [
        "#these 2 features will be numeric. lets check if there exist any house its brut is less than net m2\n",
        "data[data[\"brut_m2\"] < data[\"net_m2\"]]\n"
      ],
      "metadata": {
        "colab": {
          "base_uri": "https://localhost:8080/",
          "height": 113
        },
        "id": "PiJGKHIROQ4s",
        "outputId": "6462662a-e1e2-40a0-9fb1-b9c2dcdbe04a"
      },
      "execution_count": null,
      "outputs": [
        {
          "output_type": "execute_result",
          "data": {
            "text/plain": [
              "Empty DataFrame\n",
              "Columns: [ilan_no, room, salon, brut_m2, net_m2, floor_location, building_age, building_floor, compliance_with_loan, bathroom_amount, building_type, fuel_type, price, il, ilce, mahalle, home_link]\n",
              "Index: []"
            ],
            "text/html": [
              "\n",
              "  <div id=\"df-00233c59-db81-4f11-89fd-8ade466d14f6\">\n",
              "    <div class=\"colab-df-container\">\n",
              "      <div>\n",
              "<style scoped>\n",
              "    .dataframe tbody tr th:only-of-type {\n",
              "        vertical-align: middle;\n",
              "    }\n",
              "\n",
              "    .dataframe tbody tr th {\n",
              "        vertical-align: top;\n",
              "    }\n",
              "\n",
              "    .dataframe thead th {\n",
              "        text-align: right;\n",
              "    }\n",
              "</style>\n",
              "<table border=\"1\" class=\"dataframe\">\n",
              "  <thead>\n",
              "    <tr style=\"text-align: right;\">\n",
              "      <th></th>\n",
              "      <th>ilan_no</th>\n",
              "      <th>room</th>\n",
              "      <th>salon</th>\n",
              "      <th>brut_m2</th>\n",
              "      <th>net_m2</th>\n",
              "      <th>floor_location</th>\n",
              "      <th>building_age</th>\n",
              "      <th>building_floor</th>\n",
              "      <th>compliance_with_loan</th>\n",
              "      <th>bathroom_amount</th>\n",
              "      <th>building_type</th>\n",
              "      <th>fuel_type</th>\n",
              "      <th>price</th>\n",
              "      <th>il</th>\n",
              "      <th>ilce</th>\n",
              "      <th>mahalle</th>\n",
              "      <th>home_link</th>\n",
              "    </tr>\n",
              "  </thead>\n",
              "  <tbody>\n",
              "  </tbody>\n",
              "</table>\n",
              "</div>\n",
              "      <button class=\"colab-df-convert\" onclick=\"convertToInteractive('df-00233c59-db81-4f11-89fd-8ade466d14f6')\"\n",
              "              title=\"Convert this dataframe to an interactive table.\"\n",
              "              style=\"display:none;\">\n",
              "        \n",
              "  <svg xmlns=\"http://www.w3.org/2000/svg\" height=\"24px\"viewBox=\"0 0 24 24\"\n",
              "       width=\"24px\">\n",
              "    <path d=\"M0 0h24v24H0V0z\" fill=\"none\"/>\n",
              "    <path d=\"M18.56 5.44l.94 2.06.94-2.06 2.06-.94-2.06-.94-.94-2.06-.94 2.06-2.06.94zm-11 1L8.5 8.5l.94-2.06 2.06-.94-2.06-.94L8.5 2.5l-.94 2.06-2.06.94zm10 10l.94 2.06.94-2.06 2.06-.94-2.06-.94-.94-2.06-.94 2.06-2.06.94z\"/><path d=\"M17.41 7.96l-1.37-1.37c-.4-.4-.92-.59-1.43-.59-.52 0-1.04.2-1.43.59L10.3 9.45l-7.72 7.72c-.78.78-.78 2.05 0 2.83L4 21.41c.39.39.9.59 1.41.59.51 0 1.02-.2 1.41-.59l7.78-7.78 2.81-2.81c.8-.78.8-2.07 0-2.86zM5.41 20L4 18.59l7.72-7.72 1.47 1.35L5.41 20z\"/>\n",
              "  </svg>\n",
              "      </button>\n",
              "      \n",
              "  <style>\n",
              "    .colab-df-container {\n",
              "      display:flex;\n",
              "      flex-wrap:wrap;\n",
              "      gap: 12px;\n",
              "    }\n",
              "\n",
              "    .colab-df-convert {\n",
              "      background-color: #E8F0FE;\n",
              "      border: none;\n",
              "      border-radius: 50%;\n",
              "      cursor: pointer;\n",
              "      display: none;\n",
              "      fill: #1967D2;\n",
              "      height: 32px;\n",
              "      padding: 0 0 0 0;\n",
              "      width: 32px;\n",
              "    }\n",
              "\n",
              "    .colab-df-convert:hover {\n",
              "      background-color: #E2EBFA;\n",
              "      box-shadow: 0px 1px 2px rgba(60, 64, 67, 0.3), 0px 1px 3px 1px rgba(60, 64, 67, 0.15);\n",
              "      fill: #174EA6;\n",
              "    }\n",
              "\n",
              "    [theme=dark] .colab-df-convert {\n",
              "      background-color: #3B4455;\n",
              "      fill: #D2E3FC;\n",
              "    }\n",
              "\n",
              "    [theme=dark] .colab-df-convert:hover {\n",
              "      background-color: #434B5C;\n",
              "      box-shadow: 0px 1px 3px 1px rgba(0, 0, 0, 0.15);\n",
              "      filter: drop-shadow(0px 1px 2px rgba(0, 0, 0, 0.3));\n",
              "      fill: #FFFFFF;\n",
              "    }\n",
              "  </style>\n",
              "\n",
              "      <script>\n",
              "        const buttonEl =\n",
              "          document.querySelector('#df-00233c59-db81-4f11-89fd-8ade466d14f6 button.colab-df-convert');\n",
              "        buttonEl.style.display =\n",
              "          google.colab.kernel.accessAllowed ? 'block' : 'none';\n",
              "\n",
              "        async function convertToInteractive(key) {\n",
              "          const element = document.querySelector('#df-00233c59-db81-4f11-89fd-8ade466d14f6');\n",
              "          const dataTable =\n",
              "            await google.colab.kernel.invokeFunction('convertToInteractive',\n",
              "                                                     [key], {});\n",
              "          if (!dataTable) return;\n",
              "\n",
              "          const docLinkHtml = 'Like what you see? Visit the ' +\n",
              "            '<a target=\"_blank\" href=https://colab.research.google.com/notebooks/data_table.ipynb>data table notebook</a>'\n",
              "            + ' to learn more about interactive tables.';\n",
              "          element.innerHTML = '';\n",
              "          dataTable['output_type'] = 'display_data';\n",
              "          await google.colab.output.renderOutput(dataTable, element);\n",
              "          const docLink = document.createElement('div');\n",
              "          docLink.innerHTML = docLinkHtml;\n",
              "          element.appendChild(docLink);\n",
              "        }\n",
              "      </script>\n",
              "    </div>\n",
              "  </div>\n",
              "  "
            ]
          },
          "metadata": {},
          "execution_count": 121
        }
      ]
    },
    {
      "cell_type": "markdown",
      "source": [
        "There is no such situation. So lets continue with floor location"
      ],
      "metadata": {
        "id": "J6wImK9TOnIX"
      }
    },
    {
      "cell_type": "markdown",
      "source": [
        "## *Floor Location*"
      ],
      "metadata": {
        "id": "Iw11fe4jOtgC"
      }
    },
    {
      "cell_type": "code",
      "source": [
        "data.groupby([\"floor_location\"])[\"floor_location\"].count()"
      ],
      "metadata": {
        "colab": {
          "base_uri": "https://localhost:8080/"
        },
        "id": "qwzaiXsEOvLN",
        "outputId": "2863ff32-a5b1-4681-f7ba-ababa3c5ede6"
      },
      "execution_count": null,
      "outputs": [
        {
          "output_type": "execute_result",
          "data": {
            "text/plain": [
              "floor_location\n",
              "1                  1770\n",
              "10                  115\n",
              "11                   74\n",
              "12                   71\n",
              "13                   61\n",
              "14                   36\n",
              "15                   30\n",
              "16                   12\n",
              "17                   13\n",
              "18                    7\n",
              "19                    7\n",
              "2                  2073\n",
              "20                    9\n",
              "21 ve üzeri          39\n",
              "3                  1798\n",
              "4                  1158\n",
              "5                   617\n",
              "6                   382\n",
              "7                   252\n",
              "8                   198\n",
              "9                   161\n",
              "Ara Kat            1260\n",
              "Asma Kat              1\n",
              "Bahçe Katı          523\n",
              "Bodrum               12\n",
              "Bodrum ve Zemin       9\n",
              "En Üst Kat          708\n",
              "Giriş Katı          411\n",
              "Kot 1               192\n",
              "Kot 2               101\n",
              "Kot 3                32\n",
              "Teras Katı           64\n",
              "Villa Katı           36\n",
              "Yarı Bodrum          18\n",
              "Yüksek Giriş       1105\n",
              "Zemin               110\n",
              "Çatı Katı           103\n",
              "Name: floor_location, dtype: int64"
            ]
          },
          "metadata": {},
          "execution_count": 122
        }
      ]
    },
    {
      "cell_type": "code",
      "source": [
        "#lets define that column categorical\n",
        "data[\"floor_location\"]=data[\"floor_location\"].astype(\"category\")"
      ],
      "metadata": {
        "id": "WZYZHaslO7wt"
      },
      "execution_count": null,
      "outputs": []
    },
    {
      "cell_type": "code",
      "source": [
        "data.dtypes"
      ],
      "metadata": {
        "colab": {
          "base_uri": "https://localhost:8080/"
        },
        "id": "W9RGCf3oQSG0",
        "outputId": "54ea0c00-25ea-45c0-e884-6ba358f008ab"
      },
      "execution_count": null,
      "outputs": [
        {
          "output_type": "execute_result",
          "data": {
            "text/plain": [
              "ilan_no                   object\n",
              "room                       int64\n",
              "salon                      int64\n",
              "brut_m2                    int64\n",
              "net_m2                     int64\n",
              "floor_location          category\n",
              "building_age               int64\n",
              "building_floor             int64\n",
              "compliance_with_loan      object\n",
              "bathroom_amount            int64\n",
              "building_type             object\n",
              "fuel_type                 object\n",
              "price                     object\n",
              "il                        object\n",
              "ilce                      object\n",
              "mahalle                   object\n",
              "home_link                 object\n",
              "dtype: object"
            ]
          },
          "metadata": {},
          "execution_count": 130
        }
      ]
    },
    {
      "cell_type": "markdown",
      "source": [
        "## *Building Age*"
      ],
      "metadata": {
        "id": "9NnAlJ-uQb62"
      }
    },
    {
      "cell_type": "code",
      "source": [
        "data.groupby([\"building_age\"])[\"building_age\"].count()"
      ],
      "metadata": {
        "colab": {
          "base_uri": "https://localhost:8080/"
        },
        "id": "ckYEFOHNQfqr",
        "outputId": "852b06c2-c806-4ccd-f037-c70070991da3"
      },
      "execution_count": null,
      "outputs": [
        {
          "output_type": "execute_result",
          "data": {
            "text/plain": [
              "building_age\n",
              "0      3042\n",
              "1       369\n",
              "2       353\n",
              "3       499\n",
              "4       824\n",
              "       ... \n",
              "100       6\n",
              "110       1\n",
              "225       1\n",
              "350       1\n",
              "510       1\n",
              "Name: building_age, Length: 66, dtype: int64"
            ]
          },
          "metadata": {},
          "execution_count": 134
        }
      ]
    },
    {
      "cell_type": "markdown",
      "source": [
        "There are some problems with building ages. Check them."
      ],
      "metadata": {
        "id": "lE2T8uHyRXI1"
      }
    },
    {
      "cell_type": "code",
      "source": [],
      "metadata": {
        "id": "7r7UfdzrRIiA"
      },
      "execution_count": null,
      "outputs": []
    }
  ]
}